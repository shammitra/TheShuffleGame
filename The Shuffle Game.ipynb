{
 "cells": [
  {
   "cell_type": "markdown",
   "id": "9f2daf0f",
   "metadata": {},
   "source": [
    "# The Shufffle Game"
   ]
  },
  {
   "cell_type": "markdown",
   "id": "aa6b3dfe",
   "metadata": {},
   "source": [
    "#### A very basic game to demonstrate use of numpy arrays and shuffle."
   ]
  },
  {
   "cell_type": "markdown",
   "id": "34cf4e8d",
   "metadata": {},
   "source": [
    "*The game starts with a random generated number grid shown to the user. The grid is shuffled and the user is asked to find one of the numbers*"
   ]
  },
  {
   "cell_type": "markdown",
   "id": "95ba4370",
   "metadata": {},
   "source": [
    "#### Import libraries ####"
   ]
  },
  {
   "cell_type": "code",
   "execution_count": 78,
   "id": "10ee116c",
   "metadata": {},
   "outputs": [],
   "source": [
    "import numpy as np\n",
    "from numpy import random"
   ]
  },
  {
   "cell_type": "markdown",
   "id": "28c53838",
   "metadata": {},
   "source": [
    "#### Generate random grid of numbers"
   ]
  },
  {
   "cell_type": "code",
   "execution_count": 79,
   "id": "a4234312",
   "metadata": {},
   "outputs": [
    {
     "data": {
      "text/plain": [
       "array([[3, 4, 9],\n",
       "       [4, 8, 9],\n",
       "       [0, 7, 3]])"
      ]
     },
     "execution_count": 79,
     "metadata": {},
     "output_type": "execute_result"
    }
   ],
   "source": [
    "grid = np.random.randint(10, size=(3,3))\n",
    "grid"
   ]
  },
  {
   "cell_type": "markdown",
   "id": "3fb388a6",
   "metadata": {},
   "source": [
    "#### Present grid to user"
   ]
  },
  {
   "cell_type": "code",
   "execution_count": 80,
   "id": "7693e641",
   "metadata": {},
   "outputs": [
    {
     "name": "stdout",
     "output_type": "stream",
     "text": [
      "Welcome to Shuffle! Here are your numbers...\n",
      "\n",
      "[3 4 9]\n",
      "[4 8 9]\n",
      "[0 7 3]\n",
      "\n",
      "Shuffling grid...\n"
     ]
    }
   ],
   "source": [
    "print(\"Welcome to Shuffle! Here are your numbers...\\n\")\n",
    "for i in grid:\n",
    "    print(i)\n",
    "\n",
    "print(\"\\nShuffling grid...\")\n"
   ]
  },
  {
   "cell_type": "markdown",
   "id": "9385cb25",
   "metadata": {},
   "source": [
    "#### Shuffle grid"
   ]
  },
  {
   "cell_type": "code",
   "execution_count": 81,
   "id": "cdeb5cd0",
   "metadata": {},
   "outputs": [],
   "source": [
    "random.shuffle(grid[0])\n",
    "random.shuffle(grid[1])\n",
    "random.shuffle(grid[2])"
   ]
  },
  {
   "cell_type": "markdown",
   "id": "717f11cb",
   "metadata": {},
   "source": [
    "#### Get users column selection"
   ]
  },
  {
   "cell_type": "code",
   "execution_count": 82,
   "id": "016cf67f",
   "metadata": {},
   "outputs": [
    {
     "name": "stdout",
     "output_type": "stream",
     "text": [
      "The grid is now shuffled!\n"
     ]
    }
   ],
   "source": [
    "print(\"The grid is now shuffled!\")"
   ]
  },
  {
   "cell_type": "code",
   "execution_count": 83,
   "id": "59793fe3",
   "metadata": {},
   "outputs": [
    {
     "name": "stdout",
     "output_type": "stream",
     "text": [
      "Pick a column: 2\n",
      "\n",
      "Pick a row: 3\n",
      "\n",
      "Guess the number: 0\n",
      "\n",
      "Correct! You guessed the number was 0 correctly.\n",
      "\n",
      "Shuffled grid.\n",
      "\n",
      "[9 4 3]\n",
      "[8 4 9]\n",
      "[7 0 3]\n"
     ]
    }
   ],
   "source": [
    "# Run the game...\n",
    "\n",
    "activeGame = True\n",
    "\n",
    "while(activeGame):\n",
    "    column = int(input(\"Pick a column: \"))\n",
    "    column = column - 1\n",
    "    row = int(input(\"\\nPick a row: \"))\n",
    "    row = row -1\n",
    "    \n",
    "    guess = int(input(\"\\nGuess the number: \"))\n",
    "    \n",
    "    if(grid[row][column] == guess):\n",
    "        print(\"\\nCorrect! You guessed the number was {one} correctly.\".format(one=guess))\n",
    "        activeGame = False\n",
    "        break\n",
    "\n",
    "        print(\"\\nTry again...\\n\")\n",
    "        column = int(input(\"Pick a column: \"))\n",
    "        column = column - 1\n",
    "        row = int(input(\"\\nPick a row: \"))\n",
    "        row = row -1\n",
    "        guess = int(input(\"\\nGuess the number: \"))\n",
    "\n",
    "        \n",
    "print(\"\\nShuffled grid.\\n\")\n",
    "for i in grid:\n",
    "    print(i)"
   ]
  }
 ],
 "metadata": {
  "kernelspec": {
   "display_name": "Python 3",
   "language": "python",
   "name": "python3"
  },
  "language_info": {
   "codemirror_mode": {
    "name": "ipython",
    "version": 3
   },
   "file_extension": ".py",
   "mimetype": "text/x-python",
   "name": "python",
   "nbconvert_exporter": "python",
   "pygments_lexer": "ipython3",
   "version": "3.8.8"
  }
 },
 "nbformat": 4,
 "nbformat_minor": 5
}
